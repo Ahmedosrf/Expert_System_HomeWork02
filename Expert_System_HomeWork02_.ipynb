{
  "cells": [
    {
      "cell_type": "markdown",
      "source": [
        "<div class=\"alert alert-info\">\n",
        "    <h1 align=\"center\"></h1>\n",
        "    <h1 align=\"center\"> Expert System </h1>\n",
        "    <h5 align=\"center\">ahmed usrof </h5>\n",
        "    <h5 align=\"center\">120212439 </h5>\n",
        "\n",
        "\n",
        "</div>"
      ],
      "metadata": {
        "id": "kmQB328MiOnB"
      },
      "id": "kmQB328MiOnB"
    },
    {
      "cell_type": "markdown",
      "source": [
        "![images.jpg](data:image/jpeg;base64,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)"
      ],
      "metadata": {
        "id": "ZWU3eHEUlmlK"
      },
      "id": "ZWU3eHEUlmlK"
    },
    {
      "cell_type": "markdown",
      "id": "d763d82f-2bc8-41a8-9de8-5fc64772ef7c",
      "metadata": {
        "id": "d763d82f-2bc8-41a8-9de8-5fc64772ef7c"
      },
      "source": [
        "# Designing a dispute resolution mechanism in a media consultant expert system"
      ]
    },
    {
      "cell_type": "markdown",
      "id": "af1831cd-1184-4fa3-a171-b592178fe557",
      "metadata": {
        "id": "af1831cd-1184-4fa3-a171-b592178fe557"
      },
      "source": [
        "## Suggested scenario\n",
        " - A media advisory system uses data from multiple sources to recommend news or editorial priorities, but conflicts arise when one rule considers Source X reliable based on history."
      ]
    },
    {
      "cell_type": "markdown",
      "id": "d7f1f8b5-7a5b-4d5b-9b9c-f53899596638",
      "metadata": {
        "id": "d7f1f8b5-7a5b-4d5b-9b9c-f53899596638"
      },
      "source": [
        "## Proposed dispute resolution mechanism\n",
        "1. Methods used to resolve conflict\n",
        "* Dispute resolution methods prioritize rules based on priority, importance, and specificity, and prioritize rules based on recent information over general rules.\n",
        "\n",
        "2. Justifications for choosing the method\n",
        "* The method chosen is prioritized to prioritize important rules, ensuring the system is based on the latest information, and specialization allows the system to adapt to unique situations, enhancing its effectiveness."
      ]
    },
    {
      "cell_type": "markdown",
      "id": "81fadbcc-7bf8-435c-8846-bf2cc024cb28",
      "metadata": {
        "id": "81fadbcc-7bf8-435c-8846-bf2cc024cb28"
      },
      "source": [
        "### Describe the methods used to resolve the conflict and Include an explanation of why your chosen method is appropriate:\n",
        "#### 1. Priority\n",
        "\n",
        "   **Priority is crucial in addressing unethical content, as it ensures immediate action       and minimizes negative impacts. For instance, content containing hate speech should       be rejected, regardless of engagement or novelty rules, to maintain ethical standards.**\n",
        "   * Identifies rules or events of higher importance for faster or more important action.\n",
        "   * Prioritizes most important rule based on credibility, novelty, or ethics.\n",
        "   * Example: 'Content Rejection' rule prioritized over 'Interaction Review' or 'Controversial Content'.\n",
        "\n",
        "#### 2. Recency\n",
        "\n",
        "   **Recency is crucial as it reflects the most current information in the system, with recently updated content being the most important and should be published or addressed immediately, reflecting current events or fresh information.**\n",
        "\n",
        "   * Resolves conflicts related to recently updated content.\n",
        "   * Prioritizes most recent content in conflict.\n",
        "   * Example: Content updated in last few hours.\n",
        "   * Prioritizes refreshing content if other rule indicates old content.\n",
        "\n",
        "#### 3. Privacy\n",
        "\n",
        "   **Privacy is optimal when multiple rules are in place, with some being more specific for more accurate decisions. Prioritizing controversial or unethical content is crucial as it can lead to significant harm if not addressed promptly**\n",
        "\n",
        "   * Identifies the most specific and complex rule for conflict resolution.\n",
        "   * More specific rules yield more accurate decision-making.\n",
        "   * Example: Specifying content based on national type and addressing controversial content.\n",
        "\n",
        "**Therefore, these three methods are the most important because the system is used with software scenarios where rights and privileges are overlapped, and it is a smart way for the system to be able to create an independent application on different elements.**"
      ]
    },
    {
      "cell_type": "markdown",
      "id": "884576c7-0555-4656-922e-cd9dc65d870d",
      "metadata": {
        "id": "884576c7-0555-4656-922e-cd9dc65d870d"
      },
      "source": [
        "# Python Code"
      ]
    },
    {
      "cell_type": "code",
      "execution_count": null,
      "id": "2ac4b790-d9dc-48dc-84d5-a6e06be01a6c",
      "metadata": {
        "colab": {
          "base_uri": "https://localhost:8080/"
        },
        "id": "2ac4b790-d9dc-48dc-84d5-a6e06be01a6c",
        "outputId": "034583d5-99af-4c75-d750-79a37ba5c4ef"
      },
      "outputs": [
        {
          "output_type": "stream",
          "name": "stdout",
          "text": [
            "Requirement already satisfied: experta in /usr/local/lib/python3.10/dist-packages (1.9.4)\n",
            "Requirement already satisfied: frozendict==1.2 in /usr/local/lib/python3.10/dist-packages (from experta) (1.2)\n",
            "Requirement already satisfied: schema==0.6.7 in /usr/local/lib/python3.10/dist-packages (from experta) (0.6.7)\n"
          ]
        }
      ],
      "source": [
        "pip install experta"
      ]
    },
    {
      "cell_type": "markdown",
      "source": [
        "# ***Import libraries***"
      ],
      "metadata": {
        "id": "YsjZiA3zhnOC"
      },
      "id": "YsjZiA3zhnOC"
    },
    {
      "cell_type": "code",
      "execution_count": null,
      "id": "43edf966-1142-4bfb-8015-4036f160790b",
      "metadata": {
        "id": "43edf966-1142-4bfb-8015-4036f160790b"
      },
      "outputs": [],
      "source": [
        "from experta import *\n",
        "from datetime import datetime, timedelta"
      ]
    },
    {
      "cell_type": "markdown",
      "source": [
        "# ***Define the Facts***"
      ],
      "metadata": {
        "id": "RcUj7sqvgdTz"
      },
      "id": "RcUj7sqvgdTz"
    },
    {
      "cell_type": "code",
      "execution_count": null,
      "id": "3ca1e16b-a082-4274-9db2-a71f0dc844e7",
      "metadata": {
        "id": "3ca1e16b-a082-4274-9db2-a71f0dc844e7"
      },
      "outputs": [],
      "source": [
        "\n",
        "class Credibility(Fact):\n",
        "    \"\"\"Represents the credibility of the source.\"\"\"\n",
        "    pass\n",
        "\n",
        "class Content(Fact):\n",
        "    \"\"\"Represents the type and category of content.\"\"\"\n",
        "    pass\n",
        "\n",
        "class Interaction(Fact):\n",
        "    \"\"\"Represents the interaction level with the content.\"\"\"\n",
        "    pass\n",
        "\n",
        "class Medium(Fact):\n",
        "    \"\"\"Represents the selected medium based on rules.\"\"\"\n",
        "    pass\n"
      ]
    },
    {
      "cell_type": "markdown",
      "source": [
        "# ***Define the Knowledge Engine***"
      ],
      "metadata": {
        "id": "5FFcuu4Igx3j"
      },
      "id": "5FFcuu4Igx3j"
    },
    {
      "cell_type": "code",
      "execution_count": null,
      "id": "d996d1b7-637d-44bc-8bb6-ed179baee940",
      "metadata": {
        "colab": {
          "base_uri": "https://localhost:8080/"
        },
        "id": "d996d1b7-637d-44bc-8bb6-ed179baee940",
        "outputId": "c8260711-604c-4624-a341-c8d9f051cb54"
      },
      "outputs": [
        {
          "output_type": "stream",
          "name": "stdout",
          "text": [
            "Initializing the Media Advisor Expert System...\n",
            "\n"
          ]
        }
      ],
      "source": [
        "\n",
        "class MediaAdvisor(KnowledgeEngine):\n",
        "    def __init__(self):\n",
        "        super().__init__()\n",
        "        print(\"Initializing the Media Advisor Expert System...\\n\")\n",
        "\n",
        "\n",
        "    @Rule(Credibility(credibility='Old person') |\n",
        "          Credibility(credibility='Ancient history') |\n",
        "          Credibility(credibility='Credibility'))\n",
        "    def credibility_displays(self):\n",
        "        print(\"Rule triggered: Credibility is 'Displays'.\")\n",
        "        self.declare(Fact(stimulus_situation='Displays'))\n",
        "\n",
        "\n",
        "    @Rule(Credibility(credibility=MATCH.credibility),\n",
        "          TEST(lambda credibility: credibility.isdigit() and int(credibility) >= 80))\n",
        "    def high_credibility(self):\n",
        "        print(\"Rule triggered: High credibility detected.\")\n",
        "        self.declare(Fact(stimulus_situation='Depends'))\n",
        "\n",
        "    @Rule(Credibility(credibility='Underexcited'))\n",
        "    def low_credibility(self):\n",
        "        print(\"Rule triggered: Credibility is 'Away'.\")\n",
        "        self.declare(Fact(stimulus_situation='Away'))\n",
        "\n",
        "\n",
        "    @Rule(Content(content='National') |\n",
        "          Content(content='Security'))\n",
        "    def content_check(self):\n",
        "        print(\"Rule triggered: Content requires 'Check'.\")\n",
        "        self.declare(Fact(stimulus_response='Check'))\n",
        "\n",
        "    @Rule(Content(content='controversial') |\n",
        "          Content(content='sensitive') |\n",
        "          Content(content='violent'))\n",
        "    def alert_admin(self):\n",
        "        print(\"Rule triggered: Content is 'Controversial'. Notifying the admin.\")\n",
        "        self.declare(Fact(stimulus_response='Alert'))\n",
        "\n",
        "    @Rule(Content(content=MATCH.content, updated_at=MATCH.updated_at),\n",
        "          TEST(lambda updated_at: (datetime.now() - updated_at).total_seconds() <= 3600))\n",
        "    def recent_content(self, content, updated_at):\n",
        "        print(f\"Rule triggered: Recent content '{content}' detected. Prioritizing.\")\n",
        "        self.declare(Fact(priority='High'))\n",
        "\n",
        "    @Rule(Content(content=MATCH.content, category='Unethical'))\n",
        "    def reject_unethical(self, content):\n",
        "        print(f\"Rule triggered: Unethical content '{content}'. Rejecting.\")\n",
        "        self.declare(Fact(stimulus_response='Reject'))\n",
        "\n",
        "\n",
        "    @Rule(Content(content=MATCH.content, interaction=MATCH.interaction, avg_interaction=MATCH.avg_interaction),\n",
        "          TEST(lambda interaction, avg_interaction: interaction >= 5 * avg_interaction))\n",
        "    def high_interaction(self, content, interaction, avg_interaction):\n",
        "        print(f\"Rule triggered: Content '{content}' has high interaction ({interaction} vs avg {avg_interaction}). Reviewing.\")\n",
        "        self.declare(Fact(stimulus_response='Review'))\n",
        "\n",
        "\n",
        "    @Rule(Fact(stimulus_situation='Away'), Fact(stimulus_response='Check'))\n",
        "    def non_publication(self):\n",
        "        print(\"Final Rule triggered: Medium is 'Non-publication'.\")\n",
        "        self.declare(Medium(medium='Non-publication'))\n",
        "\n",
        "    @Rule(Fact(priority='High'))\n",
        "    def immediate_publication(self):\n",
        "        print(\"Final Rule triggered: Medium is 'Immediate Publication'.\")\n",
        "        self.declare(Medium(medium='Immediate Publication'))\n",
        "\n",
        "    @Rule(Fact(stimulus_response='Reject'))\n",
        "    def reject_content(self):\n",
        "        print(\"Final Rule triggered: Content is 'Rejected'.\")\n",
        "        self.declare(Medium(medium='Rejection'))\n",
        "\n",
        "    @Rule(Fact(stimulus_response='Review'))\n",
        "    def detailed_review(self):\n",
        "        print(\"Final Rule triggered: Medium is 'Detailed Review'.\")\n",
        "        self.declare(Medium(medium='Detailed Review'))\n",
        "\n",
        "\n",
        "x = MediaAdvisor()"
      ]
    },
    {
      "cell_type": "markdown",
      "source": [],
      "metadata": {
        "id": "JLM6jfXzhWgh"
      },
      "id": "JLM6jfXzhWgh"
    },
    {
      "cell_type": "markdown",
      "source": [
        "# ***Example test cases***"
      ],
      "metadata": {
        "id": "5yTZTleHhMCL"
      },
      "id": "5yTZTleHhMCL"
    },
    {
      "cell_type": "code",
      "execution_count": null,
      "id": "212c484f-231d-4e00-857e-6dd05fa5b3e3",
      "metadata": {
        "colab": {
          "base_uri": "https://localhost:8080/"
        },
        "id": "212c484f-231d-4e00-857e-6dd05fa5b3e3",
        "outputId": "c22d1ff6-867a-4c70-8c91-a46095ef1b8e"
      },
      "outputs": [
        {
          "output_type": "stream",
          "name": "stdout",
          "text": [
            "\n",
            "Test Case 1: Credible Source + National Content + Normal Interaction\n",
            "Rule triggered: Content requires 'Check'.\n",
            "Rule triggered: Credibility is 'Displays'.\n"
          ]
        }
      ],
      "source": [
        "print(\"\\nTest Case 1: Credible Source + National Content + Normal Interaction\")\n",
        "x.reset()\n",
        "x.declare(Credibility(credibility='Old person'))\n",
        "x.declare(Content(content='National'))\n",
        "x.declare(Interaction(interaction=50, avg_interaction=40))\n",
        "x.run()"
      ]
    },
    {
      "cell_type": "code",
      "execution_count": null,
      "id": "7298c322-b548-4d97-878e-fcb683bcf259",
      "metadata": {
        "colab": {
          "base_uri": "https://localhost:8080/"
        },
        "id": "7298c322-b548-4d97-878e-fcb683bcf259",
        "outputId": "0e494cd3-602f-48d8-e5c3-0ccdaace2f62"
      },
      "outputs": [
        {
          "output_type": "stream",
          "name": "stdout",
          "text": [
            "\n",
            "Test Case 2: High Credibility + Controversial Content + High Interaction\n",
            "Rule triggered: Content is 'Controversial'. Notifying the admin.\n",
            "Rule triggered: High credibility detected.\n"
          ]
        }
      ],
      "source": [
        "print(\"\\nTest Case 2: High Credibility + Controversial Content + High Interaction\")\n",
        "x.reset()\n",
        "x.declare(Credibility(credibility='85'))\n",
        "x.declare(Content(content='controversial'))\n",
        "x.declare(Interaction(interaction=1000, avg_interaction=150))\n",
        "x.run()"
      ]
    },
    {
      "cell_type": "code",
      "execution_count": null,
      "id": "1272a11b-034c-48bc-a5e3-4db0fd754ab4",
      "metadata": {
        "colab": {
          "base_uri": "https://localhost:8080/"
        },
        "id": "1272a11b-034c-48bc-a5e3-4db0fd754ab4",
        "outputId": "103f6321-d07f-4743-e07d-bbdfed345832"
      },
      "outputs": [
        {
          "output_type": "stream",
          "name": "stdout",
          "text": [
            "\n",
            "Test Case 3: Low Credibility + Unethical Content + Low Interaction\n",
            "Rule triggered: Unethical content 'Hate Speech'. Rejecting.\n",
            "Final Rule triggered: Content is 'Rejected'.\n",
            "Rule triggered: Credibility is 'Away'.\n"
          ]
        }
      ],
      "source": [
        "print(\"\\nTest Case 3: Low Credibility + Unethical Content + Low Interaction\")\n",
        "x.reset()\n",
        "x.declare(Credibility(credibility='Underexcited'))\n",
        "x.declare(Content(content='Hate Speech', category='Unethical'))\n",
        "x.declare(Interaction(interaction=5, avg_interaction=10))\n",
        "x.run()"
      ]
    },
    {
      "cell_type": "code",
      "source": [
        "\n",
        "print(\"\\nTest Case 4: Recent Content + High Interaction + Credible Source\")\n",
        "x.reset()\n",
        "recent_time = datetime.now() - timedelta(minutes=30)\n",
        "x.declare(Credibility(credibility='85'))\n",
        "x.declare(Content(content='Breaking News', updated_at= recent_time))\n",
        "x.declare(Interaction(interaction=1000, avg_interaction=150))\n",
        "x.run()"
      ],
      "metadata": {
        "colab": {
          "base_uri": "https://localhost:8080/"
        },
        "id": "FBJAKTuyeTiT",
        "outputId": "39fcdc35-e546-4cfb-d0e8-e9fd5d9caaf3"
      },
      "id": "FBJAKTuyeTiT",
      "execution_count": null,
      "outputs": [
        {
          "output_type": "stream",
          "name": "stdout",
          "text": [
            "\n",
            "Test Case 4: Recent Content + High Interaction + Credible Source\n",
            "Rule triggered: Recent content 'Breaking News' detected. Prioritizing.\n",
            "Final Rule triggered: Medium is 'Immediate Publication'.\n",
            "Rule triggered: High credibility detected.\n"
          ]
        }
      ]
    },
    {
      "cell_type": "code",
      "source": [
        "print(\"\\nTest Case 5: National Content + Controversial Content + Low Interaction\")\n",
        "x.reset()\n",
        "x.declare(Content(content='National'))\n",
        "x.declare(Content(content='controversial'))\n",
        "x.declare(Interaction(interaction=5, avg_interaction=10))\n",
        "x.run()"
      ],
      "metadata": {
        "colab": {
          "base_uri": "https://localhost:8080/"
        },
        "id": "SNMN_1kIeTqB",
        "outputId": "9e4fbbba-e0ab-4f9f-809b-25e57e6ebbd2"
      },
      "id": "SNMN_1kIeTqB",
      "execution_count": null,
      "outputs": [
        {
          "output_type": "stream",
          "name": "stdout",
          "text": [
            "\n",
            "Test Case 5: National Content + Controversial Content + Low Interaction\n",
            "Rule triggered: Content is 'Controversial'. Notifying the admin.\n",
            "Rule triggered: Content requires 'Check'.\n"
          ]
        }
      ]
    },
    {
      "cell_type": "code",
      "source": [
        "print(\"\\nTest Case 6: Low Credibility Source + Unethical Content + High Interaction\")\n",
        "x.reset()\n",
        "x.declare(Credibility(credibility='Underexcited'))\n",
        "x.declare(Content(content='Hate Speech', category='Unethical'))\n",
        "x.declare(Interaction(interaction=1000, avg_interaction=200))\n",
        "x.run()"
      ],
      "metadata": {
        "colab": {
          "base_uri": "https://localhost:8080/"
        },
        "id": "_nrJyH2ieTwD",
        "outputId": "4ff9b915-db26-41fe-98dc-c0befa10a355"
      },
      "id": "_nrJyH2ieTwD",
      "execution_count": null,
      "outputs": [
        {
          "output_type": "stream",
          "name": "stdout",
          "text": [
            "\n",
            "Test Case 6: Low Credibility Source + Unethical Content + High Interaction\n",
            "Rule triggered: Unethical content 'Hate Speech'. Rejecting.\n",
            "Final Rule triggered: Content is 'Rejected'.\n",
            "Rule triggered: Credibility is 'Away'.\n"
          ]
        }
      ]
    },
    {
      "cell_type": "code",
      "source": [
        "print(\"\\nTest Case 7: Recent Content + Controversial Content + Normal Interaction\")\n",
        "x.reset()\n",
        "recent_time = datetime.now() - timedelta(minutes=15)\n",
        "x.declare(Content(content='Breaking News', updated_at=recent_time))\n",
        "x.declare(Content(content='controversial'))\n",
        "x.declare(Interaction(interaction=50, avg_interaction=40))\n",
        "x.run()\n"
      ],
      "metadata": {
        "colab": {
          "base_uri": "https://localhost:8080/"
        },
        "id": "DBOTgAO6eT8p",
        "outputId": "0cbc12f4-dbf3-4ab1-fe0c-5b551549a786"
      },
      "id": "DBOTgAO6eT8p",
      "execution_count": null,
      "outputs": [
        {
          "output_type": "stream",
          "name": "stdout",
          "text": [
            "\n",
            "Test Case 7: Recent Content + Controversial Content + Normal Interaction\n",
            "Rule triggered: Content is 'Controversial'. Notifying the admin.\n",
            "Rule triggered: Recent content 'Breaking News' detected. Prioritizing.\n",
            "Final Rule triggered: Medium is 'Immediate Publication'.\n"
          ]
        }
      ]
    }
  ],
  "metadata": {
    "kernelspec": {
      "display_name": "Python 3 (ipykernel)",
      "language": "python",
      "name": "python3"
    },
    "language_info": {
      "codemirror_mode": {
        "name": "ipython",
        "version": 3
      },
      "file_extension": ".py",
      "mimetype": "text/x-python",
      "name": "python",
      "nbconvert_exporter": "python",
      "pygments_lexer": "ipython3",
      "version": "3.11.5"
    },
    "colab": {
      "provenance": []
    }
  },
  "nbformat": 4,
  "nbformat_minor": 5
}